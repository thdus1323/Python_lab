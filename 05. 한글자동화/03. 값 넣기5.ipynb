{
 "cells": [
  {
   "cell_type": "code",
   "execution_count": 16,
   "metadata": {},
   "outputs": [
    {
     "name": "stdout",
     "output_type": "stream",
     "text": [
      "     0           작성날짜 특이사항 기재 순번                  프로그램명     참가기업   성명  \\\n",
      "0    1  2024년 10월 23일          1  [영투게더컴퍼니] 브랜딩 마케팅 인턴십  영투게더컴퍼니  정민주   \n",
      "1    2  2024년 10월 23일          2  [영투게더컴퍼니] 브랜딩 마케팅 인턴십  영투게더컴퍼니  김성한   \n",
      "2    3                                                                  \n",
      "3    4                                                                  \n",
      "4    5                                                                  \n",
      "5    6                                                                  \n",
      "6    7                                                                  \n",
      "7    8                                                                  \n",
      "8    9                                                                  \n",
      "9   10                                                                  \n",
      "10  11                                                                  \n",
      "\n",
      "       Unnamed: 7          주민등록번호            연락처  ... Unnamed: 36 Unnamed: 37  \\\n",
      "0   0201294122011  020129-4122011  010-4137-0649  ...                           \n",
      "1   9709051903713  970905-1903713  010-7346-1534  ...       False       False   \n",
      "2                                                 ...       False       False   \n",
      "3                                                 ...                           \n",
      "4                                                 ...                           \n",
      "5                                                 ...                           \n",
      "6                                                 ...                           \n",
      "7                                                 ...                           \n",
      "8                                                 ...                           \n",
      "9                                                 ...                           \n",
      "10                                                ...                           \n",
      "\n",
      "   Unnamed: 38 Unnamed: 39 Unnamed: 40 Unnamed: 41 Unnamed: 42 Unnamed: 43  \\\n",
      "0                                                                            \n",
      "1        False       False       False       False       False       False   \n",
      "2        False       False       False       False       False       False   \n",
      "3                                                                            \n",
      "4                                                                            \n",
      "5                                                                            \n",
      "6                                                                            \n",
      "7                                                                            \n",
      "8                                                                            \n",
      "9                                                                            \n",
      "10                                                                           \n",
      "\n",
      "   Unnamed: 44 Unnamed: 45  \n",
      "0                           \n",
      "1        False       False  \n",
      "2        False       False  \n",
      "3                           \n",
      "4                           \n",
      "5                           \n",
      "6                           \n",
      "7                           \n",
      "8                           \n",
      "9                           \n",
      "10                          \n",
      "\n",
      "[11 rows x 46 columns]\n"
     ]
    }
   ],
   "source": [
    "import pandas as pd\n",
    "\n",
    "def 엑셀열기():\n",
    "    file_path_excel = r\"C:\\Users\\thdus\\Desktop\\파이썬 + 한글_자동화\\서식34.xlsx\"  # 엑셀 파일 경로 지정\n",
    "    sheet_name = \"참여자 명단\"  # 엑셀 시트 이름\n",
    "    excel_data = pd.read_excel(file_path_excel, sheet_name=sheet_name, header=1, dtype=str).fillna(\"\")\n",
    "    return excel_data\n",
    "\n",
    "# 엑셀 데이터를 불러옵니다.\n",
    "excel_data = 엑셀열기()\n",
    "print(f'{excel_data}')\n"
   ]
  },
  {
   "cell_type": "code",
   "execution_count": null,
   "metadata": {},
   "outputs": [
    {
     "name": "stdout",
     "output_type": "stream",
     "text": [
      "True\n",
      "성명: 정민주\n",
      "성명: 김성한\n"
     ]
    }
   ],
   "source": [
    "import win32com.client as win32\n",
    "import os\n",
    "import logging\n",
    "import pandas as pd\n",
    "\n",
    "hwp = win32.gencache.EnsureDispatch(\"hwpframe.hwpobject\")\n",
    "hwp.XHwpWindows.Item(0).Visible = True  # 한글 창을 보이게 설정\n",
    "hwp.RegisterModule(\"FilePathCheckDLL\", \"FilePathCheckerModuleExample\")\n",
    "\n",
    "def 파일열기(hwp, file_name, file_path):\n",
    "    # 전체 경로를 직접 결합\n",
    "    return hwp.Open(os.path.join(file_path, file_name))\n",
    "\n",
    "file_name = '[서식33] 인턴형 일경험 참여신청서.hwp'\n",
    "file_path = r\"C:\\Users\\thdus\\Desktop\\파이썬 + 한글_자동화\"\n",
    "full_path = 파일열기(hwp,file_name,file_path)\n",
    "print(f'{full_path}')\n",
    "\n",
    "# 엑셀 데이터를 한글 파일에 집어넣기\n",
    "for index, row in excel_data.iterrows():\n",
    "    # 매 행마다 한글 파일을 다시 열기\n",
    "    파일열기(hwp, file_name, file_path)\n",
    "\n",
    "    # 성명이 비어있다면 해당 행을 건너뜀\n",
    "    if row['성명'] == \"\" or row['성명'] is None:\n",
    "        logging.debug(f\"빈 값 발견 - 행 {index} 건너뜀\")\n",
    "        continue\n",
    "\n",
    "    try:\n",
    "        # 필드에 데이터 삽입\n",
    "        hwp.PutFieldText('성명', row['성명']) \n",
    "        print(f\"성명: {row['성명']}\")\n",
    "\n",
    "    except Exception as e:\n",
    "        logging.error(f\"오류 발생 (행 {index}): {e}\")\n"
   ]
  },
  {
   "cell_type": "code",
   "execution_count": null,
   "metadata": {},
   "outputs": [],
   "source": []
  }
 ],
 "metadata": {
  "kernelspec": {
   "display_name": "Python 3",
   "language": "python",
   "name": "python3"
  },
  "language_info": {
   "codemirror_mode": {
    "name": "ipython",
    "version": 3
   },
   "file_extension": ".py",
   "mimetype": "text/x-python",
   "name": "python",
   "nbconvert_exporter": "python",
   "pygments_lexer": "ipython3",
   "version": "3.10.11"
  }
 },
 "nbformat": 4,
 "nbformat_minor": 2
}
