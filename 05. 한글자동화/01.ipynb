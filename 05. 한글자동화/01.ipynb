{
 "cells": [
  {
   "cell_type": "code",
   "execution_count": 81,
   "metadata": {},
   "outputs": [
    {
     "name": "stdout",
     "output_type": "stream",
     "text": [
      "           필드명                                    입력값 Unnamed: 2  \\\n",
      "0      참여기업 정보                                    NaN        NaN   \n",
      "1          NaN                                    NaN        NaN   \n",
      "2       사업장 현황                                    NaN       작성날짜   \n",
      "3         사업장명                                    ㈜주인        NaN   \n",
      "4         대표자명                                    김주혁        NaN   \n",
      "5          소재지                                     부산        NaN   \n",
      "6           업종                                    개발업        NaN   \n",
      "7        피보험자수                                    10명        NaN   \n",
      "8          NaN                                    NaN        NaN   \n",
      "9       담당자 정보                                    NaN        NaN   \n",
      "10        담당부서                                    개발팀        NaN   \n",
      "11        담당자명                                     주혁        NaN   \n",
      "12  전화번호(팩스번호)                          010-1234-1234        NaN   \n",
      "13         이메일                      kjh5848@gmail.com        NaN   \n",
      "14         NaN                                    NaN        NaN   \n",
      "15        프로그램                                    NaN        NaN   \n",
      "16       프로그램명                  [주인] 빅데이터 활용 sw 개발 분석        NaN   \n",
      "17        직무분야                                     IT        NaN   \n",
      "18     프로그램 내용  데이터 수집, 전처리 기술 함양과 서비스를 개발 및 운영 인력 양성        NaN   \n",
      "19     프로그램 기간              2024.09.09. ~ 2024.11.01.        NaN   \n",
      "20     장소(소재지)                                     부산        NaN   \n",
      "21        참여인원                                     7명        NaN   \n",
      "22         NaN                                    NaN        NaN   \n",
      "23      참여자 명단                                    NaN        NaN   \n",
      "24          성명                                   생년월일         성별   \n",
      "25         권진욱                                 960205          남   \n",
      "26         박재현                                 970218          남   \n",
      "27         성무선                                 990424          남   \n",
      "28         심우현                                 960605          남   \n",
      "29         안용수                                 990117          남   \n",
      "30         이경민                                 990712          남   \n",
      "31         장성현                                 950414          남   \n",
      "\n",
      "        Unnamed: 3     Unnamed: 4  \n",
      "0              NaN            NaN  \n",
      "1              NaN            NaN  \n",
      "2   2024년도 00월 00일            NaN  \n",
      "3              NaN            NaN  \n",
      "4              NaN            NaN  \n",
      "5              NaN            NaN  \n",
      "6              NaN            NaN  \n",
      "7              NaN            NaN  \n",
      "8              NaN            NaN  \n",
      "9              NaN            NaN  \n",
      "10             NaN            NaN  \n",
      "11             NaN            NaN  \n",
      "12             NaN            NaN  \n",
      "13             NaN            NaN  \n",
      "14             NaN            NaN  \n",
      "15             NaN            NaN  \n",
      "16             NaN            NaN  \n",
      "17             NaN            NaN  \n",
      "18             NaN            NaN  \n",
      "19             NaN            NaN  \n",
      "20             NaN            NaN  \n",
      "21             NaN            NaN  \n",
      "22             NaN            NaN  \n",
      "23             NaN            NaN  \n",
      "24             참여일            연락처  \n",
      "25      2024.09.09  010-3740-1246  \n",
      "26      2024.09.09  010-5302-3649  \n",
      "27      2024.09.09  010-6286-1558  \n",
      "28      2024.09.09  010-8459-5569  \n",
      "29      2024.09.09  010-5244-9739  \n",
      "30      2024.09.09  010-5766-9072  \n",
      "31      2024.09.09  010-9235-8820  \n"
     ]
    }
   ],
   "source": [
    "import win32com.client as win32\n",
    "import pandas as pd\n",
    "excel_path = r'C:\\Users\\thdus\\Desktop\\파이썬 + 한글_자동화\\서식34.xlsx'\n",
    "excel = pd.read_excel(excel_path, sheet_name=\"서식34실시보고\", header= 0)\n",
    "print(excel)"
   ]
  },
  {
   "cell_type": "code",
   "execution_count": 50,
   "metadata": {},
   "outputs": [
    {
     "data": {
      "text/plain": [
       "True"
      ]
     },
     "execution_count": 50,
     "metadata": {},
     "output_type": "execute_result"
    }
   ],
   "source": [
    "# 한글 열기\n",
    "hwp = win32.gencache.EnsureDispatch(\"HWPFrame.HwpObject\")\n",
    "hwp.XHwpWindows.Item(0).Visible = True  # 한글 창을 화면에 표시\n",
    "hwp.RegisterModule(\"FilePathCheckDLL\", \"FilePathCheckerModuleExample\")\n",
    "\n",
    "file_path = r'C:\\Users\\thdus\\Desktop\\파이썬 + 한글_자동화\\[서식34] 인턴형 일경험 실시보고_예제1.hwp'  # 파일 경로를 수정하세요\n",
    "hwp.Open(file_path)\n"
   ]
  },
  {
   "cell_type": "code",
   "execution_count": 69,
   "metadata": {},
   "outputs": [
    {
     "data": {
      "text/plain": [
       "'사업장명\\x02대표자명\\x02소재지\\x02성명_26\\x02성명_32\\x02생년월일_32\\x02성별_32\\x02참여일_32\\x02연락처_32\\x02성명_33\\x02생년월일_33\\x02성별_33\\x02참여일_33\\x02연락처_33\\x02성명_34\\x02생년월일_34\\x02성별_34\\x02참여일_34\\x02연락처_34\\x02생년월일_35\\x02년도\\x02월\\x02일\\x02(서명 또는 인)\\x02생년월일_26\\x02생년월일_27\\x02연락처_25'"
      ]
     },
     "execution_count": 69,
     "metadata": {},
     "output_type": "execute_result"
    }
   ],
   "source": [
    "hwp.GetFieldList()"
   ]
  },
  {
   "cell_type": "code",
   "execution_count": 82,
   "metadata": {},
   "outputs": [
    {
     "name": "stdout",
     "output_type": "stream",
     "text": [
      "성명_0 참여기업 정보\n",
      "성명_1 nan\n",
      "성명_2 사업장 현황\n",
      "성명_3 사업장명\n",
      "성명_4 대표자명\n",
      "성명_5 소재지\n",
      "성명_6 업종\n",
      "성명_7 피보험자수\n",
      "성명_8 nan\n",
      "성명_9 담당자 정보\n",
      "성명_10 담당부서\n",
      "성명_11 담당자명\n",
      "성명_12 전화번호(팩스번호)\n",
      "성명_13 이메일\n",
      "성명_14 nan\n",
      "성명_15 프로그램\n",
      "성명_16 프로그램명\n",
      "성명_17 직무분야\n",
      "성명_18 프로그램 내용\n",
      "성명_19 프로그램 기간\n",
      "성명_20 장소(소재지)\n",
      "성명_21 참여인원\n",
      "성명_22 nan\n",
      "성명_23 참여자 명단\n",
      "성명_24 성명\n",
      "성명_25 권진욱\n",
      "성명_26 박재현\n",
      "성명_27 성무선\n",
      "성명_28 심우현\n",
      "성명_29 안용수\n",
      "성명_30 이경민\n",
      "성명_31 장성현\n",
      "엑셀 데이터를 한글 누름틀에 성공적으로 삽입했습니다.\n"
     ]
    },
    {
     "name": "stderr",
     "output_type": "stream",
     "text": [
      "C:\\Users\\thdus\\AppData\\Local\\Temp\\ipykernel_12940\\1549228077.py:3: FutureWarning: Series.__getitem__ treating keys as positions is deprecated. In a future version, integer keys will always be treated as labels (consistent with DataFrame behavior). To access a value by position, use `ser.iloc[pos]`\n",
      "  hwp.PutFieldText(f\"성명_{index}\", str(row[0]))\n",
      "C:\\Users\\thdus\\AppData\\Local\\Temp\\ipykernel_12940\\1549228077.py:4: FutureWarning: Series.__getitem__ treating keys as positions is deprecated. In a future version, integer keys will always be treated as labels (consistent with DataFrame behavior). To access a value by position, use `ser.iloc[pos]`\n",
      "  print(f\"성명_{index}\", str(row[0]))\n"
     ]
    }
   ],
   "source": [
    "# 추가적인 필드에 데이터 삽입 (성명, 생년월일, 성별, 참여일, 연락처)\n",
    "for index, row in excel.iterrows():     \n",
    "\t\thwp.PutFieldText(f\"성명_{index}\", str(row[0]))\n",
    "\t\tprint(f\"성명_{index}\", str(row[0]))\n",
    "\t\t\n",
    "\t\t# 성공 메시지 출력\n",
    "print(\"엑셀 데이터를 한글 누름틀에 성공적으로 삽입했습니다.\")       "
   ]
  }
 ],
 "metadata": {
  "kernelspec": {
   "display_name": "Python 3",
   "language": "python",
   "name": "python3"
  },
  "language_info": {
   "codemirror_mode": {
    "name": "ipython",
    "version": 3
   },
   "file_extension": ".py",
   "mimetype": "text/x-python",
   "name": "python",
   "nbconvert_exporter": "python",
   "pygments_lexer": "ipython3",
   "version": "3.10.11"
  }
 },
 "nbformat": 4,
 "nbformat_minor": 2
}
