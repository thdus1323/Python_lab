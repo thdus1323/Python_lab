{
 "cells": [
  {
   "cell_type": "code",
   "execution_count": 1,
   "metadata": {},
   "outputs": [
    {
     "name": "stdout",
     "output_type": "stream",
     "text": [
      "    성명          주민등록번호       작성날짜\n",
      "0  홍길동  900000-2222222  415153121\n",
      "1  이순신  900000-2222223     513153\n",
      "2  장보고  900000-2222224    8645645\n"
     ]
    },
    {
     "data": {
      "text/plain": [
       "True"
      ]
     },
     "execution_count": 1,
     "metadata": {},
     "output_type": "execute_result"
    }
   ],
   "source": [
    "# 엑셀파일 불러오기\n",
    "import win32com.client as win32\n",
    "import pandas as pd\n",
    "excel_path = r\"C:\\Users\\thdus\\OneDrive\\문서\\통합 문서 2.xlsx\"\n",
    "excel = pd.read_excel(excel_path, sheet_name=\"Sheet1\")\n",
    "print(excel)\n",
    "\n",
    "# 한글파일 열기\n",
    "hwp = win32.gencache.EnsureDispatch(\"HWPFrame.HwpObject\")\n",
    "hwp.XHwpWindows.Item(0).Visible = True  # 한글 창을 화면에 표시\n",
    "hwp.RegisterModule(\"FilePathCheckDLL\", \"FilePathCheckerModuleExample\")\n",
    "\n",
    "file_path = r\"C:\\Users\\thdus\\Desktop\\파이썬 + 한글_자동화\\[서식40] 인턴형 개인정보 활용에 관한 동의서 - 복사본.hwp\"\n",
    "hwp.Open(file_path)"
   ]
  },
  {
   "cell_type": "code",
   "execution_count": 3,
   "metadata": {},
   "outputs": [],
   "source": [
    "# 한글 파일에 값 집어넣기\n",
    "hwp.PutFieldText(\"성명\", str(excel.iloc[0, 0]))\n",
    "hwp.PutFieldText(\"주민등록번호\", str(excel.iloc[0, 1]))\n",
    "hwp.PutFieldText(\"작성날짜\", str(excel.iloc[0, 2]))"
   ]
  }
 ],
 "metadata": {
  "kernelspec": {
   "display_name": "Python 3",
   "language": "python",
   "name": "python3"
  },
  "language_info": {
   "codemirror_mode": {
    "name": "ipython",
    "version": 3
   },
   "file_extension": ".py",
   "mimetype": "text/x-python",
   "name": "python",
   "nbconvert_exporter": "python",
   "pygments_lexer": "ipython3",
   "version": "3.10.11"
  }
 },
 "nbformat": 4,
 "nbformat_minor": 2
}
