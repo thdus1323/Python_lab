{
 "cells": [
  {
   "cell_type": "code",
   "execution_count": 140,
   "metadata": {},
   "outputs": [
    {
     "name": "stdout",
     "output_type": "stream",
     "text": [
      "           필드명                                    입력값 Unnamed: 2  \\\n",
      "0      참여기업 정보                                    NaN        NaN   \n",
      "1          NaN                                    NaN        NaN   \n",
      "2       사업장 현황                                    NaN       작성날짜   \n",
      "3         사업장명                                    ㈜주인        NaN   \n",
      "4         대표자명                                    김주혁        NaN   \n",
      "5          소재지                                     부산        NaN   \n",
      "6           업종                                    개발업        NaN   \n",
      "7        피보험자수                                    10명        NaN   \n",
      "8          NaN                                    NaN        NaN   \n",
      "9       담당자 정보                                    NaN        NaN   \n",
      "10        담당부서                                    개발팀        NaN   \n",
      "11        담당자명                                     주혁        NaN   \n",
      "12  전화번호(팩스번호)                          010-1234-1234        NaN   \n",
      "13         이메일                      kjh5848@gmail.com        NaN   \n",
      "14         NaN                                    NaN        NaN   \n",
      "15        프로그램                                    NaN        NaN   \n",
      "16       프로그램명                  [주인] 빅데이터 활용 sw 개발 분석        NaN   \n",
      "17        직무분야                                     IT        NaN   \n",
      "18     프로그램 내용  데이터 수집, 전처리 기술 함양과 서비스를 개발 및 운영 인력 양성        NaN   \n",
      "19     프로그램 기간              2024.09.09. ~ 2024.11.01.        NaN   \n",
      "20     장소(소재지)                                     부산        NaN   \n",
      "21        참여인원                                     7명        NaN   \n",
      "22         NaN                                    NaN        NaN   \n",
      "23      참여자 명단                                    NaN        NaN   \n",
      "24          성명                                   생년월일         성별   \n",
      "25         권진욱                                 960205          남   \n",
      "26         박재현                                 970218          남   \n",
      "27         성무선                                 990424          남   \n",
      "28         심우현                                 960605          남   \n",
      "29         안용수                                 990117          남   \n",
      "30         이경민                                 990712          남   \n",
      "31         장성현                                 950414          남   \n",
      "\n",
      "        Unnamed: 3     Unnamed: 4  \n",
      "0              NaN            NaN  \n",
      "1              NaN            NaN  \n",
      "2   2024년도 00월 00일            NaN  \n",
      "3              NaN            NaN  \n",
      "4              NaN            NaN  \n",
      "5              NaN            NaN  \n",
      "6              NaN            NaN  \n",
      "7              NaN            NaN  \n",
      "8              NaN            NaN  \n",
      "9              NaN            NaN  \n",
      "10             NaN            NaN  \n",
      "11             NaN            NaN  \n",
      "12             NaN            NaN  \n",
      "13             NaN            NaN  \n",
      "14             NaN            NaN  \n",
      "15             NaN            NaN  \n",
      "16             NaN            NaN  \n",
      "17             NaN            NaN  \n",
      "18             NaN            NaN  \n",
      "19             NaN            NaN  \n",
      "20             NaN            NaN  \n",
      "21             NaN            NaN  \n",
      "22             NaN            NaN  \n",
      "23             NaN            NaN  \n",
      "24             참여일            연락처  \n",
      "25      2024.09.09  010-3740-1246  \n",
      "26      2024.09.09  010-5302-3649  \n",
      "27      2024.09.09  010-6286-1558  \n",
      "28      2024.09.09  010-8459-5569  \n",
      "29      2024.09.09  010-5244-9739  \n",
      "30      2024.09.09  010-5766-9072  \n",
      "31      2024.09.09  010-9235-8820  \n"
     ]
    },
    {
     "name": "stderr",
     "output_type": "stream",
     "text": [
      "C:\\Users\\thdus\\AppData\\Local\\Temp\\ipykernel_13576\\361675944.py:20: FutureWarning: Series.__getitem__ treating keys as positions is deprecated. In a future version, integer keys will always be treated as labels (consistent with DataFrame behavior). To access a value by position, use `ser.iloc[pos]`\n",
      "  hwp.PutFieldText(row[0],\"\")  # A열: 필드명, B열: 값\n",
      "C:\\Users\\thdus\\AppData\\Local\\Temp\\ipykernel_13576\\361675944.py:23: FutureWarning: Series.__getitem__ treating keys as positions is deprecated. In a future version, integer keys will always be treated as labels (consistent with DataFrame behavior). To access a value by position, use `ser.iloc[pos]`\n",
      "  hwp.PutFieldText(row[2], \"\")  # C열: 필드명, D열: 값\n"
     ]
    },
    {
     "name": "stdout",
     "output_type": "stream",
     "text": [
      "엑셀 데이터를 한글 누름틀에 성공적으로 삽입했습니다.\n"
     ]
    }
   ],
   "source": [
    "import win32com.client as win32\n",
    "import pandas as pd\n",
    "excel_path = r'C:\\Users\\thdus\\Desktop\\파이썬 + 한글_자동화\\서식34.xlsx'\n",
    "excel = pd.read_excel(excel_path, sheet_name=\"서식34실시보고\")\n",
    "print(excel)\n",
    "\n",
    "# 한글 열기\n",
    "hwp = win32.gencache.EnsureDispatch(\"HWPFrame.HwpObject\")\n",
    "hwp.XHwpWindows.Item(0).Visible = True  # 한글 창을 화면에 표시\n",
    "hwp.RegisterModule(\"FilePathCheckDLL\", \"FilePathCheckerModuleExample\")\n",
    "\n",
    "file_path = r'C:\\Users\\thdus\\Desktop\\파이썬 + 한글_자동화\\[서식34] 인턴형 일경험 실시보고_예제1.hwp'  # 파일 경로를 수정하세요\n",
    "hwp.Open(file_path)\n",
    "\n",
    "def 전체초기화(excel):\n",
    "    try:\n",
    "        # 엑셀 데이터를 반복하여 한글 문서의 누름틀에 필드명과 값을 삽입\n",
    "        for index, row in excel.iterrows():\n",
    "            # A, B열 데이터 삽입\n",
    "            hwp.PutFieldText(row[0],\"\")  # A열: 필드명, B열: 값\n",
    "            \n",
    "            # C, D열 데이터 삽입\n",
    "            hwp.PutFieldText(row[2], \"\")  # C열: 필드명, D열: 값\n",
    "\n",
    "            # 추가적인 필드에 데이터 삽입 (성명, 생년월일, 성별, 참여일, 연락처)\n",
    "            hwp.PutFieldText(f\"성명_{index}\",\"\")\n",
    "            hwp.PutFieldText(f\"생년월일_{index}\", \"\")\n",
    "            hwp.PutFieldText(f\"성별_{index}\", \"\")\n",
    "            hwp.PutFieldText(f\"참여일_{index}\",\"\")\n",
    "            hwp.PutFieldText(f\"연락처{index}\", \"\")\n",
    "            hwp.PutFieldText(f\"\", \"\")\n",
    "            hwp.PutFieldText(\"\",\"\")\n",
    "\n",
    "            # 디버그 정보\n",
    "            # logging.debug(f\"참여일_{index+1}: {row[3]}\")\n",
    "\n",
    "        # 특정 위치 데이터 삽입 (28행의 년도, 월, 일 데이터)\n",
    "        hwp.PutFieldText(\"년도\", \"\")\n",
    "        hwp.PutFieldText(\"월\", \"\")\n",
    "        hwp.PutFieldText(\"일\", \"\")\n",
    "\n",
    "        # 성공 메시지 출력\n",
    "        print(\"엑셀 데이터를 한글 누름틀에 성공적으로 삽입했습니다.\")\n",
    "    \n",
    "    except Exception as e:\n",
    "        # 오류 메시지 출력\n",
    "        print(f\"누름틀에 값을 삽입하는 중 오류 발생: {e}\")\n",
    "\n",
    "전체초기화(excel)\n",
    "\n"
   ]
  },
  {
   "cell_type": "code",
   "execution_count": 141,
   "metadata": {},
   "outputs": [
    {
     "name": "stderr",
     "output_type": "stream",
     "text": [
      "C:\\Users\\thdus\\AppData\\Local\\Temp\\ipykernel_13576\\2361534468.py:3: FutureWarning: Series.__getitem__ treating keys as positions is deprecated. In a future version, integer keys will always be treated as labels (consistent with DataFrame behavior). To access a value by position, use `ser.iloc[pos]`\n",
      "  hwp.PutFieldText(row[0], (row[1]))  # A열: 필드명, B열: 값\n",
      "C:\\Users\\thdus\\AppData\\Local\\Temp\\ipykernel_13576\\2361534468.py:12: FutureWarning: Series.__getitem__ treating keys as positions is deprecated. In a future version, integer keys will always be treated as labels (consistent with DataFrame behavior). To access a value by position, use `ser.iloc[pos]`\n",
      "  hwp.PutFieldText(f\"성명_{row}\", column[0])\n",
      "C:\\Users\\thdus\\AppData\\Local\\Temp\\ipykernel_13576\\2361534468.py:13: FutureWarning: Series.__getitem__ treating keys as positions is deprecated. In a future version, integer keys will always be treated as labels (consistent with DataFrame behavior). To access a value by position, use `ser.iloc[pos]`\n",
      "  hwp.PutFieldText(f\"생년월일_{row}\", column[1])\n",
      "C:\\Users\\thdus\\AppData\\Local\\Temp\\ipykernel_13576\\2361534468.py:14: FutureWarning: Series.__getitem__ treating keys as positions is deprecated. In a future version, integer keys will always be treated as labels (consistent with DataFrame behavior). To access a value by position, use `ser.iloc[pos]`\n",
      "  hwp.PutFieldText(f\"성별_{row}\", column[2])\n",
      "C:\\Users\\thdus\\AppData\\Local\\Temp\\ipykernel_13576\\2361534468.py:15: FutureWarning: Series.__getitem__ treating keys as positions is deprecated. In a future version, integer keys will always be treated as labels (consistent with DataFrame behavior). To access a value by position, use `ser.iloc[pos]`\n",
      "  hwp.PutFieldText(f\"참여일_{row}\", column[3])\n",
      "C:\\Users\\thdus\\AppData\\Local\\Temp\\ipykernel_13576\\2361534468.py:16: FutureWarning: Series.__getitem__ treating keys as positions is deprecated. In a future version, integer keys will always be treated as labels (consistent with DataFrame behavior). To access a value by position, use `ser.iloc[pos]`\n",
      "  hwp.PutFieldText(f\"연락처{row}\", column[4])\n"
     ]
    },
    {
     "name": "stdout",
     "output_type": "stream",
     "text": [
      "엑셀 데이터를 한글 누름틀에 성공적으로 삽입했습니다.\n"
     ]
    }
   ],
   "source": [
    "for index, row in excel.iterrows():\n",
    "            # A, B열 데이터 삽입\n",
    "            hwp.PutFieldText(row[0], (row[1]))  # A열: 필드명, B열: 값\n",
    "            # print(f\"{row[0], str(row[1])}\")\n",
    "\n",
    "for row, column in excel.iterrows():\n",
    "    # print(f\"ddd{row} : www{column}\")     \n",
    "    # 필드 이름과 삽입할 값을 출력\n",
    "    # print(f\"Inserting into field '성명_{row}': {column[0]}\")\n",
    "    \n",
    "    # 한글 문서 필드에 데이터 삽입\n",
    "    hwp.PutFieldText(f\"성명_{row}\", column[0])\n",
    "    hwp.PutFieldText(f\"생년월일_{row}\", column[1])\n",
    "    hwp.PutFieldText(f\"성별_{row}\", column[2])\n",
    "    hwp.PutFieldText(f\"참여일_{row}\", column[3])\n",
    "    hwp.PutFieldText(f\"연락처{row}\", column[4])\n",
    "# 성공 메시지 출력\n",
    "print(\"엑셀 데이터를 한글 누름틀에 성공적으로 삽입했습니다.\")\n"
   ]
  },
  {
   "cell_type": "code",
   "execution_count": 142,
   "metadata": {},
   "outputs": [],
   "source": [
    "def 세로누름틀생성(hwp, 시작인덱스 , 필드이름, 개수):\n",
    "    for i in range(개수):\n",
    "        field_name = f\"{필드이름}_{시작인덱스 + i}\"\n",
    "        # hwp.HAction.Execute(\"MoveDown\", hwp.HParameterSet.HFindReplace.HSet)\n",
    "        \n",
    "        # 누름틀 필드 생성 (현재 커서 위치에 삽입)\n",
    "        hwp.CreateField(필드이름, \"\", field_name)\n",
    "        print(f\"Inserted field: {field_name}\")\n",
    "        \n",
    "        hwp.HAction.Execute(\"MoveDown\", hwp.HParameterSet.HFindReplace.HSet)\n",
    "\n",
    "# '성별' 필드를 현재 커서 위치에서 시작으로 반복적으로 누름틀을 생성하고 텍스트를 설정\n",
    "# 세로누름틀생성(hwp,시작인덱스=25,필드이름=\"생년월일\",개수=10)"
   ]
  },
  {
   "cell_type": "code",
   "execution_count": null,
   "metadata": {},
   "outputs": [],
   "source": []
  }
 ],
 "metadata": {
  "kernelspec": {
   "display_name": "Python 3",
   "language": "python",
   "name": "python3"
  },
  "language_info": {
   "codemirror_mode": {
    "name": "ipython",
    "version": 3
   },
   "file_extension": ".py",
   "mimetype": "text/x-python",
   "name": "python",
   "nbconvert_exporter": "python",
   "pygments_lexer": "ipython3",
   "version": "3.10.11"
  }
 },
 "nbformat": 4,
 "nbformat_minor": 2
}
