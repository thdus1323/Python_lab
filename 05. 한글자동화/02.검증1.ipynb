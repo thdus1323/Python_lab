{
 "cells": [
  {
   "cell_type": "code",
   "execution_count": 100,
   "metadata": {},
   "outputs": [
    {
     "name": "stdout",
     "output_type": "stream",
     "text": [
      "              0    1     2  Unnamed: 3\n",
      "0          사업장명    ㅁ  작성날짜   2222222.0\n",
      "1          대표자명    ㅁ   NaN         NaN\n",
      "2           소재지    ㅁ   NaN         NaN\n",
      "3            업종    ㅁ   NaN         NaN\n",
      "4           NaN    ㅁ   NaN         NaN\n",
      "5           NaN    ㅁ   NaN         NaN\n",
      "6           NaN    ㅁ   NaN         NaN\n",
      "7           NaN    ㅁ   NaN         NaN\n",
      "8           NaN    ㅁ   NaN         NaN\n",
      "9           NaN    ㅁ   NaN         NaN\n",
      "10          NaN    ㅁ   NaN         NaN\n",
      "11          NaN    ㅁ   NaN         NaN\n",
      "12          NaN    ㅁ   NaN         NaN\n",
      "13          NaN    ㅁ   NaN         NaN\n",
      "14          NaN    ㅁ   NaN         NaN\n",
      "15          NaN    ㅁ   NaN         NaN\n",
      "16          NaN    ㅁ   NaN         NaN\n",
      "17          NaN    ㅁ   NaN         NaN\n",
      "18          NaN    ㅁ   NaN         NaN\n",
      "19          NaN    ㅁ   NaN         NaN\n",
      "20           성명  NaN   NaN         NaN\n",
      "21       이소연 천재  NaN   NaN         NaN\n",
      "22      이소연 멋쟁이  NaN   NaN         NaN\n",
      "23       이소연 최고  NaN   NaN         NaN\n",
      "24      이소연 잘한다  NaN   NaN         NaN\n",
      "25  이소연 잘하고 있다.  NaN   NaN         NaN\n"
     ]
    }
   ],
   "source": [
    "import win32com.client as win32\n",
    "import pandas as pd\n",
    "excel_path = r'C:\\Users\\thdus\\Desktop\\통합 문서 2.xlsx'\n",
    "excel = pd.read_excel(excel_path, sheet_name=\"Sheet1\")\n",
    "print(excel)"
   ]
  },
  {
   "cell_type": "code",
   "execution_count": 116,
   "metadata": {},
   "outputs": [
    {
     "data": {
      "text/plain": [
       "True"
      ]
     },
     "execution_count": 116,
     "metadata": {},
     "output_type": "execute_result"
    }
   ],
   "source": [
    "# 한글 열기\n",
    "hwp = win32.gencache.EnsureDispatch(\"HWPFrame.HwpObject\")\n",
    "hwp.XHwpWindows.Item(0).Visible = True  # 한글 창을 화면에 표시\n",
    "hwp.RegisterModule(\"FilePathCheckDLL\", \"FilePathCheckerModuleExample\")\n",
    "\n",
    "file_path = r'C:\\Users\\thdus\\Desktop\\파이썬 + 한글_자동화\\[서식34] 인턴형 일경험 실시보고_예제1.hwp'  # 파일 경로를 수정하세요\n",
    "hwp.Open(file_path)"
   ]
  },
  {
   "cell_type": "code",
   "execution_count": 117,
   "metadata": {},
   "outputs": [
    {
     "name": "stdout",
     "output_type": "stream",
     "text": [
      "('사업장명', 'ㅁ')\n",
      "('대표자명', 'ㅁ')\n",
      "('소재지', 'ㅁ')\n",
      "('업종', 'ㅁ')\n",
      "(nan, 'ㅁ')\n",
      "(nan, 'ㅁ')\n",
      "(nan, 'ㅁ')\n",
      "(nan, 'ㅁ')\n",
      "(nan, 'ㅁ')\n",
      "(nan, 'ㅁ')\n",
      "(nan, 'ㅁ')\n",
      "(nan, 'ㅁ')\n",
      "(nan, 'ㅁ')\n",
      "(nan, 'ㅁ')\n",
      "(nan, 'ㅁ')\n",
      "(nan, 'ㅁ')\n",
      "(nan, 'ㅁ')\n",
      "(nan, 'ㅁ')\n",
      "(nan, 'ㅁ')\n",
      "(nan, 'ㅁ')\n",
      "('성명', 'nan')\n",
      "('이소연 천재', 'nan')\n",
      "('이소연 멋쟁이', 'nan')\n",
      "('이소연 최고', 'nan')\n",
      "('이소연 잘한다', 'nan')\n",
      "('이소연 잘하고 있다.', 'nan')\n"
     ]
    }
   ],
   "source": [
    "#field_list = hwp.GetFieldList().split('\\x02')\n",
    "#print(field_list)\n",
    "\n",
    "for index, row in excel.iterrows():\n",
    "            # A, B열 데이터 삽입\n",
    "            hwp.PutFieldText(row[0], str(row[1]))  # A열: 필드명, B열: 값\n",
    "            print(f\"{row[0], str(row[1])}\")"
   ]
  },
  {
   "cell_type": "code",
   "execution_count": 91,
   "metadata": {},
   "outputs": [],
   "source": [
    "hwp.PutFieldText(\"작성날짜\", str(excel.iloc[0, 3]))"
   ]
  },
  {
   "cell_type": "code",
   "execution_count": null,
   "metadata": {},
   "outputs": [
    {
     "name": "stdout",
     "output_type": "stream",
     "text": [
      "Inserting into field '성명_0': 사업장명\n"
     ]
    },
    {
     "ename": "com_error",
     "evalue": "(-2147023174, 'RPC 서버를 사용할 수 없습니다.', None, None)",
     "output_type": "error",
     "traceback": [
      "\u001b[1;31m---------------------------------------------------------------------------\u001b[0m",
      "\u001b[1;31mcom_error\u001b[0m                                 Traceback (most recent call last)",
      "Cell \u001b[1;32mIn[115], line 6\u001b[0m\n\u001b[0;32m      3\u001b[0m     \u001b[38;5;28mprint\u001b[39m(\u001b[38;5;124mf\u001b[39m\u001b[38;5;124m\"\u001b[39m\u001b[38;5;124mInserting into field \u001b[39m\u001b[38;5;124m'\u001b[39m\u001b[38;5;124m성명_\u001b[39m\u001b[38;5;132;01m{\u001b[39;00mrow\u001b[38;5;132;01m}\u001b[39;00m\u001b[38;5;124m'\u001b[39m\u001b[38;5;124m: \u001b[39m\u001b[38;5;132;01m{\u001b[39;00mcolumn[\u001b[38;5;241m0\u001b[39m]\u001b[38;5;132;01m}\u001b[39;00m\u001b[38;5;124m\"\u001b[39m)\n\u001b[0;32m      5\u001b[0m     \u001b[38;5;66;03m# 한글 문서 필드에 데이터 삽입\u001b[39;00m\n\u001b[1;32m----> 6\u001b[0m     \u001b[43mhwp\u001b[49m\u001b[38;5;241;43m.\u001b[39;49m\u001b[43mPutFieldText\u001b[49m\u001b[43m(\u001b[49m\u001b[38;5;124;43mf\u001b[39;49m\u001b[38;5;124;43m\"\u001b[39;49m\u001b[38;5;124;43m성명_\u001b[39;49m\u001b[38;5;132;43;01m{\u001b[39;49;00m\u001b[43mrow\u001b[49m\u001b[38;5;132;43;01m}\u001b[39;49;00m\u001b[38;5;124;43m\"\u001b[39;49m\u001b[43m,\u001b[49m\u001b[43m \u001b[49m\u001b[38;5;28;43mstr\u001b[39;49m\u001b[43m(\u001b[49m\u001b[43mcolumn\u001b[49m\u001b[43m[\u001b[49m\u001b[38;5;241;43m0\u001b[39;49m\u001b[43m]\u001b[49m\u001b[43m)\u001b[49m\u001b[43m)\u001b[49m\n\u001b[0;32m      9\u001b[0m \u001b[38;5;66;03m# 성공 메시지 출력\u001b[39;00m\n\u001b[0;32m     10\u001b[0m \u001b[38;5;28mprint\u001b[39m(\u001b[38;5;124m\"\u001b[39m\u001b[38;5;124m엑셀 데이터를 한글 누름틀에 성공적으로 삽입했습니다.\u001b[39m\u001b[38;5;124m\"\u001b[39m)\n",
      "File \u001b[1;32m~\\AppData\\Local\\Temp\\gen_py\\3.10\\7D2B6F3C-1D95-4E0C-BF5A-5EE564186FBCx0x1x0\\IHwpObject.py:678\u001b[0m, in \u001b[0;36mIHwpObject.PutFieldText\u001b[1;34m(self, Field, Text)\u001b[0m\n\u001b[0;32m    676\u001b[0m \u001b[38;5;28;01mdef\u001b[39;00m \u001b[38;5;21mPutFieldText\u001b[39m(\u001b[38;5;28mself\u001b[39m, Field\u001b[38;5;241m=\u001b[39mdefaultNamedNotOptArg, Text\u001b[38;5;241m=\u001b[39mdefaultNamedNotOptArg):\n\u001b[0;32m    677\u001b[0m \t\u001b[38;5;124m'\u001b[39m\u001b[38;5;124mmethod PutFieldText\u001b[39m\u001b[38;5;124m'\u001b[39m\n\u001b[1;32m--> 678\u001b[0m \t\u001b[38;5;28;01mreturn\u001b[39;00m \u001b[38;5;28;43mself\u001b[39;49m\u001b[38;5;241;43m.\u001b[39;49m\u001b[43m_oleobj_\u001b[49m\u001b[38;5;241;43m.\u001b[39;49m\u001b[43mInvokeTypes\u001b[49m\u001b[43m(\u001b[49m\u001b[38;5;241;43m10009\u001b[39;49m\u001b[43m,\u001b[49m\u001b[43m \u001b[49m\u001b[43mLCID\u001b[49m\u001b[43m,\u001b[49m\u001b[43m \u001b[49m\u001b[38;5;241;43m1\u001b[39;49m\u001b[43m,\u001b[49m\u001b[43m \u001b[49m\u001b[43m(\u001b[49m\u001b[38;5;241;43m24\u001b[39;49m\u001b[43m,\u001b[49m\u001b[43m \u001b[49m\u001b[38;5;241;43m0\u001b[39;49m\u001b[43m)\u001b[49m\u001b[43m,\u001b[49m\u001b[43m \u001b[49m\u001b[43m(\u001b[49m\u001b[43m(\u001b[49m\u001b[38;5;241;43m8\u001b[39;49m\u001b[43m,\u001b[49m\u001b[43m \u001b[49m\u001b[38;5;241;43m1\u001b[39;49m\u001b[43m)\u001b[49m\u001b[43m,\u001b[49m\u001b[43m \u001b[49m\u001b[43m(\u001b[49m\u001b[38;5;241;43m8\u001b[39;49m\u001b[43m,\u001b[49m\u001b[43m \u001b[49m\u001b[38;5;241;43m1\u001b[39;49m\u001b[43m)\u001b[49m\u001b[43m)\u001b[49m\u001b[43m,\u001b[49m\u001b[43mField\u001b[49m\n\u001b[0;32m    679\u001b[0m \u001b[43m\t\t\u001b[49m\u001b[43m,\u001b[49m\u001b[43m \u001b[49m\u001b[43mText\u001b[49m\u001b[43m)\u001b[49m\n",
      "\u001b[1;31mcom_error\u001b[0m: (-2147023174, 'RPC 서버를 사용할 수 없습니다.', None, None)"
     ]
    }
   ],
   "source": [
    "for row, column in excel.iterrows():     \n",
    "    # 필드 이름과 삽입할 값을 출력\n",
    "    print(f\"Inserting into field '성명_{row}': {column[0]}\")\n",
    "    \n",
    "    # 한글 문서 필드에 데이터 삽입\n",
    "    hwp.PutFieldText(f\"성명_{row}\", str(column[0]))\n",
    "  \n",
    "\n",
    "# 성공 메시지 출력\n",
    "print(\"엑셀 데이터를 한글 누름틀에 성공적으로 삽입했습니다.\")\n"
   ]
  },
  {
   "cell_type": "code",
   "execution_count": null,
   "metadata": {},
   "outputs": [
    {
     "name": "stdout",
     "output_type": "stream",
     "text": [
      "Inserted field: 연락처_21\n",
      "Inserted field: 연락처_22\n",
      "Inserted field: 연락처_23\n",
      "Inserted field: 연락처_24\n",
      "Inserted field: 연락처_25\n",
      "Inserted field: 연락처_26\n",
      "Inserted field: 연락처_27\n",
      "Inserted field: 연락처_28\n",
      "Inserted field: 연락처_29\n",
      "Inserted field: 연락처_30\n"
     ]
    }
   ],
   "source": [
    "def 세로누름틀생성(hwp, 시작인덱스 , 필드이름, 개수):\n",
    "    for i in range(개수):\n",
    "        field_name = f\"{필드이름}_{시작인덱스 + i}\"\n",
    "        # hwp.HAction.Execute(\"MoveDown\", hwp.HParameterSet.HFindReplace.HSet)\n",
    "        \n",
    "        # 누름틀 필드 생성 (현재 커서 위치에 삽입)\n",
    "        hwp.CreateField(필드이름, \"\", field_name)\n",
    "        print(f\"Inserted field: {field_name}\")\n",
    "        \n",
    "        hwp.HAction.Execute(\"MoveDown\", hwp.HParameterSet.HFindReplace.HSet)\n",
    "\n",
    "# '성별' 필드를 현재 커서 위치에서 시작으로 반복적으로 누름틀을 생성하고 텍스트를 설정\n",
    "세로누름틀생성(hwp,시작인덱스=21,필드이름=\"연락처\",개수=10)"
   ]
  }
 ],
 "metadata": {
  "kernelspec": {
   "display_name": "Python 3",
   "language": "python",
   "name": "python3"
  },
  "language_info": {
   "codemirror_mode": {
    "name": "ipython",
    "version": 3
   },
   "file_extension": ".py",
   "mimetype": "text/x-python",
   "name": "python",
   "nbconvert_exporter": "python",
   "pygments_lexer": "ipython3",
   "version": "3.10.11"
  }
 },
 "nbformat": 4,
 "nbformat_minor": 2
}
