{
 "cells": [
  {
   "cell_type": "code",
   "execution_count": 2,
   "metadata": {},
   "outputs": [
    {
     "name": "stdout",
     "output_type": "stream",
     "text": [
      "    성명\n",
      "0  홍길동\n",
      "1  이순신\n",
      "assssssaC:\\Users\\thdus\\Desktop\\파이썬 + 한글_자동화\\[서식33] 인턴형 일경험 참여신청서.hwp\n",
      "성명: 홍길동\n",
      "assssssaC:\\Users\\thdus\\Desktop\\파이썬 + 한글_자동화\\[서식33] 인턴형 일경험 참여신청서.hwp\n",
      "성명: 이순신\n"
     ]
    }
   ],
   "source": [
    "import win32com.client as win32\n",
    "import os\n",
    "import logging\n",
    "import pandas as pd\n",
    "\n",
    "def 엑셀열기():\n",
    "    file_path_excel = r\"C:\\Users\\thdus\\Desktop\\통합 문서 3.xlsx\"  # 엑셀 파일 경로 지정\n",
    "    sheet_name = \"Sheet1\"  # 엑셀 시트 이름\n",
    "    excel_data = pd.read_excel(file_path_excel, sheet_name=sheet_name, header=0, dtype=str).fillna(\"\")\n",
    "    return excel_data\n",
    "\n",
    "# 엑셀 데이터를 불러옵니다.\n",
    "excel_data = 엑셀열기()\n",
    "print(f'{excel_data}')\n",
    "\n",
    "hwp = win32.gencache.EnsureDispatch(\"hwpframe.hwpobject\")\n",
    "hwp.XHwpWindows.Item(0).Visible = True  # 한글 창을 보이게 설정\n",
    "hwp.RegisterModule(\"FilePathCheckDLL\", \"FilePathCheckerModuleExample\")\n",
    "\n",
    "def 파일열기(hwp, file_name, file_path, file_확장자):\n",
    "    # 전체 경로를 직접 결합\n",
    "    full_path= os.path.join(file_path, file_name+file_확장자)\n",
    "    print(f'assssssa{full_path}')\n",
    "    return hwp.Open(full_path)\n",
    "\n",
    "file_name = '[서식33] 인턴형 일경험 참여신청서'\n",
    "file_확장자= '.hwp'\n",
    "file_path = r\"C:\\Users\\thdus\\Desktop\\파이썬 + 한글_자동화\"\n",
    "# full_path = 파일열기(hwp, file_name, file_path, file_확장자)\n",
    "\n",
    "\n",
    "# 엑셀 데이터를 한글 파일에 집어넣기\n",
    "for index, row in excel_data.iterrows():\n",
    "    # 매 행마다 한글 파일을 다시 열기\n",
    "    파일열기(hwp, file_name, file_path, file_확장자)\n",
    "    \n",
    "\n",
    "    # 성명이 비어있다면 해당 행을 건너뜀\n",
    "    if row['성명'] == \"\" or row['성명'] is None:\n",
    "        logging.debug(f\"빈 값 발견 - 행 {index} 건너뜀\")\n",
    "        continue\n",
    "\n",
    "    try:\n",
    "        # 필드에 데이터 삽입\n",
    "        hwp.PutFieldText('성명', row['성명']) \n",
    "        print(f\"성명: {row['성명']}\")\n",
    "\n",
    "        # 새로운 파일 이름 생성\n",
    "        new_file_name = f\"{file_name}_{row['성명']}.hwp\"\n",
    "        new_file_path = os.path.join(file_path, new_file_name)\n",
    "\n",
    "        # 파일 다른 이름으로 저장\n",
    "        hwp.SaveAs(new_file_path)\n",
    "        logging.info(f\"파일 저장 완료: {new_file_name}\")\n",
    "        hwp.Clear(1)\n",
    "\n",
    "    except Exception as e:\n",
    "        logging.error(f\"오류 발생 (행 {index}): {e}\")\n",
    "\n",
    "# 엑셀 반복이 종료되면 한글 종료\n",
    "hwp.Quit()\n"
   ]
  }
 ],
 "metadata": {
  "kernelspec": {
   "display_name": "Python 3",
   "language": "python",
   "name": "python3"
  },
  "language_info": {
   "codemirror_mode": {
    "name": "ipython",
    "version": 3
   },
   "file_extension": ".py",
   "mimetype": "text/x-python",
   "name": "python",
   "nbconvert_exporter": "python",
   "pygments_lexer": "ipython3",
   "version": "3.10.11"
  }
 },
 "nbformat": 4,
 "nbformat_minor": 2
}
