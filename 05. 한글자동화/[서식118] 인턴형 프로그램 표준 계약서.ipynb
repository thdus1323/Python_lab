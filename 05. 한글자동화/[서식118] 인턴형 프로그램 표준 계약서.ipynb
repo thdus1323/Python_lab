{
 "cells": [
  {
   "cell_type": "code",
   "execution_count": 3,
   "metadata": {},
   "outputs": [
    {
     "name": "stdout",
     "output_type": "stream",
     "text": [
      "   로우\\n인덱스         NaN            NaN NaN NaN NaN NaN NaN NaN NaN  ... NaN  \\\n",
      "0        0  참여 청년용 확인서                                             ...       \n",
      "1        1          성명                                             ...       \n",
      "2        2        생년월일                                             ...       \n",
      "3        3                                                         ...       \n",
      "4        4    일경험기간시작일  2024년 09월 00일                              ...       \n",
      "..     ...         ...            ...  ..  ..  ..  ..  ..  ..  ..  ...  ..   \n",
      "57      57                                                         ...       \n",
      "58      58                                                         ...       \n",
      "59      59                                                         ...       \n",
      "60      60                                                         ...       \n",
      "61      61                                                         ...       \n",
      "\n",
      "   NaN NaN NaN NaN NaN NaN NaN NaN NaN  \n",
      "0                                       \n",
      "1                                       \n",
      "2                                       \n",
      "3                                       \n",
      "4                                       \n",
      "..  ..  ..  ..  ..  ..  ..  ..  ..  ..  \n",
      "57                                      \n",
      "58                                      \n",
      "59                                      \n",
      "60                                      \n",
      "61                                      \n",
      "\n",
      "[62 rows x 38 columns]\n",
      "필드에 값을 성공적으로 삽입했습니다.\n"
     ]
    }
   ],
   "source": [
    "import win32com.client\n",
    "import pandas as pd\n",
    "\n",
    "# 한글 열기\n",
    "hwp = win32com.client.Dispatch(\"HWPFrame.HwpObject\")\n",
    "hwp.XHwpWindows.Item(0).Visible = True  # 한글 창을 화면에 표시\n",
    "hwp.RegisterModule(\"FilePathCheckDLL\", \"FilePathCheckerModuleExample\")\n",
    "\n",
    "file_path = r\"C:\\workspace\\한글자동화\\python_lab\\07. 한글 문서\\❌누름틀 전_문서\\[서식118] 인턴형 프로그램 표준 계약서.hwp\"\n",
    "hwp.Open(file_path, \"HWP\", \"forceopen:true\")\n",
    "\n",
    "def 엑셀데이터불러오기():\n",
    "    file_path_excel = r\"C:\\workspace\\한글자동화\\python_lab\\07. 한글 문서\\한글 자동화_엑셀파일_lsy.xlsm\"  # 엑셀 파일 경로 지정\n",
    "    sheet_name = \"118. 인턴형 프로그램 표준계약서\"  # 엑셀 시트 이름\n",
    "    header = 0\n",
    "    excel_data = pd.read_excel(file_path_excel, sheet_name=sheet_name, header=header, dtype=str).fillna(\"\")\n",
    "    excel_data.columns = excel_data.columns.str.strip()\n",
    "    return excel_data\n",
    "\n",
    "# 엑셀 데이터를 불러옵니다.\n",
    "excel_data = 엑셀데이터불러오기()\n",
    "print(excel_data)\n",
    "\n",
    "# 누름틀 필드에 값을 집어넣는 함수\n",
    "def 누름틀필드에_값_집어넣기(hwp, excel_data):\n",
    "    try:\n",
    "        # 엑셀 A열에 있는 필드명과 B열에 있는 값을 한글 문서에 삽입\n",
    "        for index, row in excel_data.iterrows():\n",
    "            field_name = row.iloc[1]  # A열: 필드명 (index 1)\n",
    "            field_value = row.iloc[2]  # B열: 값 (index 2)\n",
    "            if pd.notna(field_name) and pd.notna(field_value):\n",
    "                hwp.PutFieldText(field_name, str(field_value))\n",
    "        # 성공 메시지 출력\n",
    "        print(\"필드에 값을 성공적으로 삽입했습니다.\")\n",
    "    except Exception as e:\n",
    "        # 오류 메시지 출력\n",
    "        print(f\"필드에 값 삽입 중 오류 발생: {e}\")\n",
    "\n",
    "# 함수 호출\n",
    "누름틀필드에_값_집어넣기(hwp, excel_data)\n"
   ]
  }
 ],
 "metadata": {
  "kernelspec": {
   "display_name": "Python 3",
   "language": "python",
   "name": "python3"
  },
  "language_info": {
   "codemirror_mode": {
    "name": "ipython",
    "version": 3
   },
   "file_extension": ".py",
   "mimetype": "text/x-python",
   "name": "python",
   "nbconvert_exporter": "python",
   "pygments_lexer": "ipython3",
   "version": "3.10.11"
  }
 },
 "nbformat": 4,
 "nbformat_minor": 2
}
